{
 "cells": [
  {
   "cell_type": "code",
   "execution_count": null,
   "id": "8ac94b0f-b178-435d-856b-e4b0e74afdad",
   "metadata": {},
   "outputs": [],
   "source": [
    "# install some dependencies\n",
    "!pip install -q pynrrd\n",
    "!pip install -q bluepysnap "
   ]
  }
 ],
 "metadata": {
  "kernelspec": {
   "display_name": "Python 3 (ipykernel)",
   "language": "python",
   "name": "python3"
  },
  "language_info": {
   "codemirror_mode": {
    "name": "ipython",
    "version": 3
   },
   "file_extension": ".py",
   "mimetype": "text/x-python",
   "name": "python",
   "nbconvert_exporter": "python",
   "pygments_lexer": "ipython3",
   "version": "3.8.10"
  }
 },
 "nbformat": 4,
 "nbformat_minor": 5
}
